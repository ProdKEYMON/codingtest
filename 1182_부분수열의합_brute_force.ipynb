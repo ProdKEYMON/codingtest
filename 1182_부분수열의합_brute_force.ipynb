{
 "cells": [
  {
   "cell_type": "markdown",
   "metadata": {},
   "source": [
    "## Combinations"
   ]
  },
  {
   "cell_type": "code",
   "execution_count": 3,
   "metadata": {},
   "outputs": [
    {
     "name": "stdout",
     "output_type": "stream",
     "text": [
      "1\n"
     ]
    }
   ],
   "source": [
    "from itertools import combinations\n",
    "\n",
    "N, S = map(int, input().split())\n",
    "A = list(map(int, input().split()))\n",
    "\n",
    "ans = 0  # S와 같은 합을 가지는 조합의 개수를 저장할 변수\n",
    "\n",
    "# 1부터 N까지의 원소 개수로 이루어진 모든 조합을 생성\n",
    "for num_elements in range(1, N + 1):\n",
    "    # 리스트 A에서 num_elements개의 원소를 선택하여 모든 조합을 만듭니다.\n",
    "    for c in combinations(A, num_elements):\n",
    "        # 현재 조합 c의 합이 S와 같은지 확인합니다.\n",
    "        if sum(c) == S:\n",
    "            ans += 1  # 조건에 맞는 조합의 개수를 증가시킵니다.\n",
    "\n",
    "print(ans)\n",
    "\n",
    "# 코드 설명:\n",
    "# 1. 먼저 N과 S를 입력받습니다. N은 리스트 A의 원소 개수를 나타내며, S는 찾고자 하는 합입니다.\n",
    "# 2. 리스트 A의 원소들을 입력받습니다.\n",
    "# 3. 변수 ans를 0으로 초기화합니다. 이 변수는 합이 S인 조합의 개수를 저장합니다.\n",
    "# 4. num_elements를 1부터 N까지 반복하며, A에서 num_elements개의 원소를 선택하는 모든 조합을 생성합니다.\n",
    "# 5. 각 조합의 합이 S와 같은지 확인하고, 조건을 만족하면 ans를 증가시킵니다.\n",
    "# 6. 최종적으로 ans를 출력하여 합이 S인 조합의 개수를 출력합니다.\n",
    "\n",
    "# 입력 예시:\n",
    "# N = 5, S = 0\n",
    "# A = [-7, -3, -2, 5, 8]\n",
    "#\n",
    "# 이 경우, 합이 0이 되는 조합의 개수를 찾습니다.\n",
    "# 가능한 조합은 다음과 같습니다:\n",
    "# 1. num_elements = 1일 때: A에서 원소 1개를 선택하는 모든 조합은 (-7), (-3), (-2), (5), (8)입니다. 합이 0인 조합은 없습니다.\n",
    "# 2. num_elements = 2일 때: A에서 원소 2개를 선택하는 모든 조합은 (-7, -3), (-7, -2), (-7, 5), (-7, 8), (-3, -2), (-3, 5), (-3, 8), (-2, 5), (-2, 8), (5, 8)입니다. 합이 0인 조합은 없습니다.\n",
    "# 3. num_elements = 3일 때: A에서 원소 3개를 선택하는 모든 조합은 (-7, -3, -2), (-7, -3, 5), (-7, -3, 8), (-7, -2, 5), (-7, -2, 8), (-7, 5, 8), (-3, -2, 5), (-3, -2, 8), (-3, 5, 8), (-2, 5, 8)입니다. 합이 0인 조합은 (-3, -2, 5)입니다.\n",
    "# 4. num_elements = 4일 때: A에서 원소 4개를 선택하는 모든 조합은 (-7, -3, -2, 5), (-7, -3, -2, 8), (-7, -3, 5, 8), (-7, -2, 5, 8), (-3, -2, 5, 8)입니다. 합이 0인 조합은 없습니다.\n",
    "# 5. num_elements = 5일 때: A에서 원소 5개를 선택하는 모든 조합은 (-7, -3, -2, 5, 8)입니다. 합이 0인 조합은 (-7, -3, -2, 5, 8)입니다.\n",
    "#\n",
    "# 최종적으로 합이 0인 조합의 개수는 2개입니다."
   ]
  }
 ],
 "metadata": {
  "kernelspec": {
   "display_name": "3.10.11",
   "language": "python",
   "name": "python3"
  },
  "language_info": {
   "codemirror_mode": {
    "name": "ipython",
    "version": 3
   },
   "file_extension": ".py",
   "mimetype": "text/x-python",
   "name": "python",
   "nbconvert_exporter": "python",
   "pygments_lexer": "ipython3",
   "version": "3.10.11"
  }
 },
 "nbformat": 4,
 "nbformat_minor": 2
}
