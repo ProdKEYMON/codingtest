{
 "cells": [
  {
   "cell_type": "code",
   "execution_count": 7,
   "metadata": {},
   "outputs": [
    {
     "name": "stdout",
     "output_type": "stream",
     "text": [
      "2\n"
     ]
    }
   ],
   "source": [
    "from collections import deque\n",
    "\n",
    "# 노드 개수(N)와 간선 개수(M)를 입력받습니다.\n",
    "N, M = map(int, input().split())\n",
    "\n",
    "# 인접 리스트로 그래프 초기화. 각 노드에 대해 빈 리스트 생성.\n",
    "graph = [[] for _ in range(N)]\n",
    "\n",
    "# 간선 정보를 입력받아 그래프를 구축합니다.\n",
    "for _ in range(M):\n",
    "    a, b = map(int, input().split())  # 각 간선의 양 끝점인 a와 b를 입력받습니다.\n",
    "    a, b = a - 1, b - 1  # 입력된 노드를 0-based 인덱스로 맞추기 위해 1씩 감소.\n",
    "\n",
    "    graph[a].append(b)  # 노드 a에 노드 b 추가 (양방향 간선).\n",
    "    graph[b].append(a)  # 노드 b에 노드 a 추가 (양방향 간선).\n",
    "\n",
    "# 방문 여부를 체크하는 리스트와 BFS를 위한 큐 초기화.\n",
    "visited = [False] * N\n",
    "queue = deque()\n",
    "\n",
    "# 연결 요소의 수를 세기 위한 변수.\n",
    "count = 0\n",
    "\n",
    "# 모든 노드를 검사하여 방문하지 않은 노드에 대해 BFS를 시작합니다.\n",
    "for i in range(N):\n",
    "    if not visited[i]:  # 만약 현재 노드를 방문하지 않았다면.\n",
    "        queue.append(i)  # 큐에 노드를 추가하고.\n",
    "        visited[i] = True  # 해당 노드를 방문 처리합니다.\n",
    "\n",
    "        # BFS 실행.\n",
    "        while len(queue) != 0:  # 큐가 빌 때까지 반복.\n",
    "            node = queue.popleft()  # 큐의 맨 앞에서 노드를 꺼냅니다.\n",
    "\n",
    "            # 현재 노드와 연결된 모든 인접 노드들을 방문.\n",
    "            for adj in graph[node]:\n",
    "                if not visited[adj]:  # 만약 인접 노드가 방문되지 않았다면.\n",
    "                    queue.append(adj)  # 큐에 인접 노드를 추가하고.\n",
    "                    visited[adj] = True  # 인접 노드를 방문 처리합니다.\n",
    "        \n",
    "        # BFS가 종료될 때마다 하나의 연결 요소를 찾았으므로 count를 증가시킵니다.\n",
    "        count += 1\n",
    "\n",
    "# 최종적으로 연결 요소의 개수를 출력합니다.\n",
    "print(count)"
   ]
  },
  {
   "cell_type": "code",
   "execution_count": null,
   "metadata": {},
   "outputs": [],
   "source": []
  }
 ],
 "metadata": {
  "kernelspec": {
   "display_name": "3.10.11",
   "language": "python",
   "name": "python3"
  },
  "language_info": {
   "codemirror_mode": {
    "name": "ipython",
    "version": 3
   },
   "file_extension": ".py",
   "mimetype": "text/x-python",
   "name": "python",
   "nbconvert_exporter": "python",
   "pygments_lexer": "ipython3",
   "version": "3.10.11"
  }
 },
 "nbformat": 4,
 "nbformat_minor": 2
}
