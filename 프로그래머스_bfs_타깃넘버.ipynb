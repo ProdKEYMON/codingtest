{
 "cells": [
  {
   "cell_type": "code",
   "execution_count": 1,
   "metadata": {},
   "outputs": [],
   "source": [
    "from collections import deque\n",
    "#예: [4,1,2,1]\n",
    "def solution(numbers, target):\n",
    "    answer = 0 #초기화\n",
    "    queue = deque() #초기화\n",
    "    n = len(numbers) #수열의 길이 4\n",
    "    queue.append([numbers[0],0]) #초기값을 queue에 넣음 [4,0]\n",
    "    queue.append([-1*numbers[0],0]) #초기값을 queue에 넣음 [-4,0]\n",
    "    #queue안에는 [[4,0],[-4,0]]이 들어가 있다.\n",
    "    \n",
    "    while queue:\n",
    "        temp, idx = queue.popleft() #temp는 현재의 숫자, idx는 몇번째 숫자인지 나타내는 idx\n",
    "        idx += 1 #idx를 하나 올리는 것은 다음의 숫자를 불러와서 연산을 하기 위함\n",
    "        if idx < n: #수열의 전체숫자를 다 더하기 위해서 \n",
    "            queue.append([temp + numbers[idx], idx])\n",
    "            queue.append([temp - numbers[idx], idx])\n",
    "            #[4,0]뽑혀서 [4 + 1, 1]의 형태와 / [4 - 1, 1]의 두가지 경로가 나온다\n",
    "            #이 모든 숫자를 더하고 빼고 하는 마지막 숫자까지의 합에 도달하면 idx > n경우가 오고\n",
    "            #그때 else문에 실행되며 타깃값과 같은 경우를  counting한다.\n",
    "        else:\n",
    "            if temp == target:\n",
    "                answer += 1\n",
    "    \n",
    "    \n",
    "    return answer\n",
    "    \n",
    "    "
   ]
  },
  {
   "cell_type": "code",
   "execution_count": 3,
   "metadata": {},
   "outputs": [
    {
     "data": {
      "text/plain": [
       "2"
      ]
     },
     "execution_count": 3,
     "metadata": {},
     "output_type": "execute_result"
    }
   ],
   "source": [
    "solution([4,1,2,1], 4)"
   ]
  },
  {
   "cell_type": "code",
   "execution_count": null,
   "metadata": {},
   "outputs": [],
   "source": []
  }
 ],
 "metadata": {
  "kernelspec": {
   "display_name": "3.10.11",
   "language": "python",
   "name": "python3"
  },
  "language_info": {
   "codemirror_mode": {
    "name": "ipython",
    "version": 3
   },
   "file_extension": ".py",
   "mimetype": "text/x-python",
   "name": "python",
   "nbconvert_exporter": "python",
   "pygments_lexer": "ipython3",
   "version": "3.10.11"
  }
 },
 "nbformat": 4,
 "nbformat_minor": 2
}
