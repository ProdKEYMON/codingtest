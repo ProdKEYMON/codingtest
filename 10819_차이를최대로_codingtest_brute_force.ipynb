{
 "cells": [
  {
   "cell_type": "markdown",
   "metadata": {},
   "source": [
    "## Brute_Force 알고리즘"
   ]
  },
  {
   "cell_type": "code",
   "execution_count": 3,
   "metadata": {},
   "outputs": [
    {
     "name": "stdout",
     "output_type": "stream",
     "text": [
      "62\n"
     ]
    }
   ],
   "source": [
    "from itertools import permutations\n",
    "N = int(input())\n",
    "a = list(map(int, input().split()))\n",
    "\n",
    "ans = -1\n",
    "\n",
    "for p in list(permutations(a)):\n",
    "    sum = 0\n",
    "    for i in range(N-1):\n",
    "        sum += abs(p[i] - p[i+1])\n",
    "\n",
    "    if ans < sum:\n",
    "        ans = sum\n",
    "\n",
    "print(ans) "
   ]
  },
  {
   "cell_type": "markdown",
   "metadata": {},
   "source": [
    "## BFS 알고리즘"
   ]
  },
  {
   "cell_type": "code",
   "execution_count": null,
   "metadata": {},
   "outputs": [],
   "source": [
    "from collections import deque\n",
    "\n",
    "N = int(input())\n",
    "a = list(map(int, input().split()))\n",
    "\n",
    "def bfs_solution():\n",
    "    max_difference = -1\n",
    "    # 큐에 각 숫자와 해당 숫자를 포함한 경로를 초기화합니다.\n",
    "    queue = deque([(num, [num]) for num in a])  # 각 숫자를 시작점으로 하여 큐에 삽입합니다.\n",
    "\n",
    "    while queue:\n",
    "        current_num, path = queue.popleft()  # 큐에서 현재 숫자와 경로를 꺼냅니다.\n",
    "\n",
    "        # 만약 모든 숫자를 다 사용했다면 차이를 계산합니다.\n",
    "        if len(path) == N:\n",
    "            current_sum = 0\n",
    "            # 연속된 두 수의 차이의 절댓값을 누적하여 계산합니다.\n",
    "            for i in range(N - 1):\n",
    "                current_sum += abs(path[i] - path[i + 1])\n",
    "            # 현재까지의 최대 차이를 갱신합니다.\n",
    "            max_difference = max(max_difference, current_sum)\n",
    "        else:\n",
    "            # 아직 남은 숫자들을 계속 사용하여 새로운 조합을 만듭니다.\n",
    "            for num in a:\n",
    "                if num not in path:  # 경로에 없는 숫자를 추가하여 새로운 경로를 생성합니다.\n",
    "                    queue.append((num, path + [num]))  # 큐에 새로운 숫자와 경로를 추가합니다.\n",
    "\n",
    "    return max_difference\n",
    "\n",
    "print(\"BFS Answer:\", bfs_solution())\n"
   ]
  }
 ],
 "metadata": {
  "kernelspec": {
   "display_name": "3.10.11",
   "language": "python",
   "name": "python3"
  },
  "language_info": {
   "codemirror_mode": {
    "name": "ipython",
    "version": 3
   },
   "file_extension": ".py",
   "mimetype": "text/x-python",
   "name": "python",
   "nbconvert_exporter": "python",
   "pygments_lexer": "ipython3",
   "version": "3.10.11"
  }
 },
 "nbformat": 4,
 "nbformat_minor": 2
}
