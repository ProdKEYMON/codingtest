{
 "cells": [
  {
   "cell_type": "code",
   "execution_count": 1,
   "metadata": {},
   "outputs": [],
   "source": [
    "from collections import deque\n",
    "\n",
    "graph = {\n",
    "    0: [1, 2],\n",
    "    1: [0, 3, 4],\n",
    "    2: [0, 4],\n",
    "    3: [1],\n",
    "    4: [1, 2]\n",
    "}"
   ]
  },
  {
   "cell_type": "code",
   "execution_count": 6,
   "metadata": {},
   "outputs": [],
   "source": [
    "# visited 초기 설정\n",
    "start_node = 3\n",
    "visited = [False] * 5"
   ]
  },
  {
   "cell_type": "code",
   "execution_count": 7,
   "metadata": {},
   "outputs": [],
   "source": [
    "queue = deque([start_node])"
   ]
  },
  {
   "cell_type": "code",
   "execution_count": 9,
   "metadata": {},
   "outputs": [],
   "source": [
    "visited[start_node] = True"
   ]
  },
  {
   "cell_type": "code",
   "execution_count": 18,
   "metadata": {},
   "outputs": [],
   "source": [
    "def bfs(start_node):\n",
    "    visited = [False] * 5\n",
    "    queue = deque([start_node])\n",
    "    visited[start_node] = True\n",
    "    \n",
    "    while len(queue) != 0:\n",
    "        node = queue.popleft()\n",
    "        print(node, end=' ')\n",
    "        for adj in graph[node]:\n",
    "            if not visited[adj]:\n",
    "                queue.append(adj)\n",
    "                visited[adj] = True"
   ]
  },
  {
   "cell_type": "code",
   "execution_count": 19,
   "metadata": {},
   "outputs": [
    {
     "name": "stdout",
     "output_type": "stream",
     "text": [
      "1 0 3 4 2 "
     ]
    }
   ],
   "source": [
    "bfs(1)"
   ]
  },
  {
   "cell_type": "code",
   "execution_count": 16,
   "metadata": {},
   "outputs": [],
   "source": [
    "# BFS 함수 정의\n",
    "def bfs(start_node):\n",
    "    visited = [False] * 5  # 정점의 방문 여부를 저장하는 리스트. 모든 정점을 처음에는 방문하지 않았다고 설정 (False).\n",
    "    queue = deque([start_node])  # 시작 노드를 큐에 삽입. BFS는 큐를 사용하여 구현되며, 시작 노드를 먼저 큐에 넣습니다.\n",
    "    visited[start_node] = True  # 시작 노드를 방문 처리. 방문한 노드는 True로 표시하여 중복 방문을 방지합니다.\n",
    "\n",
    "    while queue:  # 큐가 비어 있지 않은 동안 반복. 큐가 비면 모든 노드를 방문한 것이므로 반복문이 종료됩니다.\n",
    "        node = queue.popleft()  # 큐의 앞쪽에서 노드를 꺼내 방문합니다. FIFO 구조로 가장 먼저 들어온 노드를 꺼냅니다.\n",
    "        print(node, end=' ')  # 방문한 노드를 출력합니다. 탐색 순서를 확인하기 위해 노드를 출력합니다.\n",
    "\n",
    "        # 현재 노드와 인접한 노드들을 방문\n",
    "        for adjacent in graph[node]:  # 현재 노드에 인접한 모든 노드를 탐색합니다.\n",
    "            if not visited[adjacent]:  # 인접한 노드가 방문되지 않았다면\n",
    "                queue.append(adjacent)  # 인접한 노드를 큐에 추가하여 이후 방문할 수 있도록 합니다.\n",
    "                visited[adjacent] = True  # 인접한 노드를 방문 처리하여 중복 방문을 방지합니다."
   ]
  },
  {
   "cell_type": "code",
   "execution_count": 17,
   "metadata": {},
   "outputs": [
    {
     "name": "stdout",
     "output_type": "stream",
     "text": [
      "3 1 0 4 2 "
     ]
    }
   ],
   "source": [
    "bfs(3)"
   ]
  },
  {
   "cell_type": "code",
   "execution_count": null,
   "metadata": {},
   "outputs": [],
   "source": []
  }
 ],
 "metadata": {
  "kernelspec": {
   "display_name": "langchain-kr-hzaDRuBH-py3.11",
   "language": "python",
   "name": "python3"
  },
  "language_info": {
   "codemirror_mode": {
    "name": "ipython",
    "version": 3
   },
   "file_extension": ".py",
   "mimetype": "text/x-python",
   "name": "python",
   "nbconvert_exporter": "python",
   "pygments_lexer": "ipython3",
   "version": "3.11.7"
  }
 },
 "nbformat": 4,
 "nbformat_minor": 2
}
