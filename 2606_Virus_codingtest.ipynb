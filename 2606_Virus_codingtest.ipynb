{
 "cells": [
  {
   "cell_type": "code",
   "execution_count": 24,
   "metadata": {},
   "outputs": [
    {
     "ename": "ValueError",
     "evalue": "not enough values to unpack (expected 2, got 1)",
     "output_type": "error",
     "traceback": [
      "\u001b[1;31m---------------------------------------------------------------------------\u001b[0m",
      "\u001b[1;31mValueError\u001b[0m                                Traceback (most recent call last)",
      "Cell \u001b[1;32mIn[24], line 7\u001b[0m\n\u001b[0;32m      5\u001b[0m graph \u001b[38;5;241m=\u001b[39m [[] \u001b[38;5;28;01mfor\u001b[39;00m _ \u001b[38;5;129;01min\u001b[39;00m \u001b[38;5;28mrange\u001b[39m(M)]  \u001b[38;5;66;03m#빈리스트 M개 만들기\u001b[39;00m\n\u001b[0;32m      6\u001b[0m \u001b[38;5;28;01mfor\u001b[39;00m _ \u001b[38;5;129;01min\u001b[39;00m \u001b[38;5;28mrange\u001b[39m(N):\n\u001b[1;32m----> 7\u001b[0m     a, b \u001b[38;5;241m=\u001b[39m \u001b[38;5;28mmap\u001b[39m(\u001b[38;5;28mint\u001b[39m, \u001b[38;5;28minput\u001b[39m()\u001b[38;5;241m.\u001b[39msplit())\n\u001b[0;32m      8\u001b[0m     a, b \u001b[38;5;241m=\u001b[39m a \u001b[38;5;241m-\u001b[39m \u001b[38;5;241m1\u001b[39m, b \u001b[38;5;241m-\u001b[39m \u001b[38;5;241m1\u001b[39m\n\u001b[0;32m     10\u001b[0m     graph[a]\u001b[38;5;241m.\u001b[39mappend(b)\n",
      "\u001b[1;31mValueError\u001b[0m: not enough values to unpack (expected 2, got 1)"
     ]
    }
   ],
   "source": [
    "from collections import deque\n",
    "\n",
    "M = int(input()) #노드 갯수(컴퓨터)\n",
    "N = int(input()) #엣지 갯수(간선)\n",
    "graph = [[] for _ in range(M)]  #빈리스트 M개 만들기\n",
    "for _ in range(N):\n",
    "    a, b = map(int, input().split())\n",
    "    a, b = a - 1, b - 1\n",
    "\n",
    "    graph[a].append(b)\n",
    "    graph[b].append(a)\n",
    "\n",
    "visited = [False] * M\n",
    "queue = deque()\n",
    "\n",
    "queue.append(0)\n",
    "visited[0] = True\n",
    "\n",
    "while len(queue) != 0:\n",
    "    node = queue.popleft()\n",
    "    for adj in graph[node]:\n",
    "        if not visited[adj]:\n",
    "            queue.append(adj)\n",
    "            visited[adj] = True\n",
    "\n",
    "answer = 0\n",
    "for i in range(1, M):\n",
    "    if visited[i]:\n",
    "        answer += 1\n",
    "\n",
    "print(answer)"
   ]
  },
  {
   "cell_type": "code",
   "execution_count": 27,
   "metadata": {},
   "outputs": [
    {
     "name": "stdout",
     "output_type": "stream",
     "text": [
      "4\n"
     ]
    }
   ],
   "source": [
    "from collections import deque\n",
    "\n",
    "M = int(input())\n",
    "N = int(input())\n",
    "\n",
    "graph = [[] for _ in range(M)]\n",
    "for _ in range(N):\n",
    "    a, b = map(int, input().split())\n",
    "    a, b = a-1, b-1\n",
    "\n",
    "    graph[a].append(b)\n",
    "    graph[b].append(a)\n",
    "\n",
    "visited = [False] * M\n",
    "queue = deque()\n",
    "queue.append(0)\n",
    "visited[0] = True\n",
    "\n",
    "while len(queue) != 0:\n",
    "    node = queue.pop()\n",
    "    for adj in graph[node]: #인접한 노드들 탐색\n",
    "        if not visited[adj]:\n",
    "            queue.append(adj)\n",
    "            visited[adj] = True\n",
    "answer = 0\n",
    "for i in range(1, M):\n",
    "    if visited[i]:\n",
    "        answer += 1\n",
    "\n",
    "print(answer)"
   ]
  }
 ],
 "metadata": {
  "kernelspec": {
   "display_name": "3.10.11",
   "language": "python",
   "name": "python3"
  },
  "language_info": {
   "codemirror_mode": {
    "name": "ipython",
    "version": 3
   },
   "file_extension": ".py",
   "mimetype": "text/x-python",
   "name": "python",
   "nbconvert_exporter": "python",
   "pygments_lexer": "ipython3",
   "version": "3.10.11"
  }
 },
 "nbformat": 4,
 "nbformat_minor": 2
}
